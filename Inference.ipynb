{
  "cells": [
    {
      "cell_type": "code",
      "source": [
        "import joblib\n",
        "from sklearn.feature_extraction.text import TfidfVectorizer, CountVectorizer"
      ],
      "metadata": {
        "id": "i5oMoQ9Jpjek"
      },
      "execution_count": 1,
      "outputs": []
    },
    {
      "cell_type": "code",
      "source": [
        "# Memuat model SVM yang telah dilatih dengan TF-IDF\n",
        "svm_model = joblib.load(\"svm_model.pkl\")\n",
        "\n",
        "# Memuat TF-IDF Vectorizer yang digunakan dalam pelatihan model SVM\n",
        "tfidf_vectorizer = joblib.load(\"tfidf_vectorizer.pkl\")\n",
        "\n",
        "# Memuat model Random Forest yang dilatih menggunakan TF-IDF\n",
        "rf_model_tfidf = joblib.load(\"random_forest_model.pkl\")\n",
        "\n",
        "# Memuat model Random Forest yang dilatih menggunakan CountVectorizer\n",
        "rf_model_cv = joblib.load(\"random_forest_cv_model.pkl\")\n",
        "\n",
        "# Memuat CountVectorizer yang digunakan untuk model Random Forest\n",
        "count_vectorizer = joblib.load(\"count_vectorizer.pkl\")"
      ],
      "metadata": {
        "id": "fXCGu68SrN04"
      },
      "execution_count": 2,
      "outputs": []
    },
    {
      "cell_type": "code",
      "source": [
        "# Kalimat baru yang akan diprediksi sentimennya\n",
        "kalimat_baru = [\n",
        "    \"Aplikasi ini sering error dan sering memberikan jawaban yang salah\",\n",
        "    \"Bagus sekali aplikasinya, sangat membantu\",\n",
        "    \"ChatGPT cukup baik, meskipun ada beberapa jawaban yang kurang tepat\"\n",
        "]"
      ],
      "metadata": {
        "id": "ryXpMEoNrQaA"
      },
      "execution_count": 3,
      "outputs": []
    },
    {
      "cell_type": "code",
      "source": [
        "# Mengubah kalimat baru menjadi representasi numerik menggunakan TF-IDF\n",
        "X_tfidf = tfidf_vectorizer.transform(kalimat_baru)\n",
        "\n",
        "# Mengubah kalimat baru menjadi representasi numerik menggunakan CountVectorizer\n",
        "X_count = count_vectorizer.transform(kalimat_baru)"
      ],
      "metadata": {
        "id": "Ojk1MRV9rViz"
      },
      "execution_count": 4,
      "outputs": []
    },
    {
      "cell_type": "code",
      "source": [
        "# Prediksi sentimen dengan model SVM\n",
        "svm_preds = svm_model.predict(X_tfidf)\n",
        "\n",
        "# Prediksi sentimen dengan model Random Forest + TF-IDF\n",
        "rf_tfidf_preds = rf_model_tfidf.predict(X_tfidf)\n",
        "\n",
        "# Prediksi sentimen dengan model Random Forest + CountVectorizer\n",
        "rf_cv_preds = rf_model_cv.predict(X_count)"
      ],
      "metadata": {
        "id": "6kMua7A-rYVb"
      },
      "execution_count": 5,
      "outputs": []
    },
    {
      "cell_type": "code",
      "source": [
        "# Pemetaan label numerik ke label sentimen\n",
        "label_map = {\"negatif\": \"negatif\", \"netral\": \"netral\", \"positif\": \"positif\"}"
      ],
      "metadata": {
        "id": "m4EVKg_Hrdyc"
      },
      "execution_count": 6,
      "outputs": []
    },
    {
      "cell_type": "code",
      "source": [
        "# Menampilkan hasil prediksi untuk setiap kalimat\n",
        "print(\"\\nHasil Prediksi Sentimen:\")\n",
        "for i, text in enumerate(kalimat_baru):\n",
        "    print(f\"Kalimat: {text}\")\n",
        "    print(f\"SVM + TF-IDF     → {label_map.get(svm_preds[i], svm_preds[i])}\")\n",
        "    print(f\"RF + TF-IDF      → {label_map.get(rf_tfidf_preds[i], rf_tfidf_preds[i])}\")\n",
        "    print(f\"RF + CountVector → {label_map.get(rf_cv_preds[i], rf_cv_preds[i])}\")\n",
        "    print(\"-\" * 70)"
      ],
      "metadata": {
        "colab": {
          "base_uri": "https://localhost:8080/"
        },
        "id": "XivGkd2urgkN",
        "outputId": "55a68100-25a3-4889-cc1b-b002b6dd49eb"
      },
      "execution_count": 7,
      "outputs": [
        {
          "output_type": "stream",
          "name": "stdout",
          "text": [
            "\n",
            "Hasil Prediksi Sentimen:\n",
            "Kalimat: Aplikasi ini sering error dan sering memberikan jawaban yang salah\n",
            "SVM + TF-IDF     → negative\n",
            "RF + TF-IDF      → negative\n",
            "RF + CountVector → negative\n",
            "----------------------------------------------------------------------\n",
            "Kalimat: Bagus sekali aplikasinya, sangat membantu\n",
            "SVM + TF-IDF     → positive\n",
            "RF + TF-IDF      → positive\n",
            "RF + CountVector → positive\n",
            "----------------------------------------------------------------------\n",
            "Kalimat: ChatGPT cukup baik, meskipun ada beberapa jawaban yang kurang tepat\n",
            "SVM + TF-IDF     → neutral\n",
            "RF + TF-IDF      → neutral\n",
            "RF + CountVector → neutral\n",
            "----------------------------------------------------------------------\n"
          ]
        }
      ]
    }
  ],
  "metadata": {
    "colab": {
      "provenance": []
    },
    "kernelspec": {
      "display_name": "Python 3",
      "name": "python3"
    },
    "language_info": {
      "name": "python"
    }
  },
  "nbformat": 4,
  "nbformat_minor": 0
}